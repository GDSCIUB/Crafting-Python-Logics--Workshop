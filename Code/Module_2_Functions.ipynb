{
  "nbformat": 4,
  "nbformat_minor": 0,
  "metadata": {
    "colab": {
      "provenance": [],
      "gpuType": "T4"
    },
    "kernelspec": {
      "name": "python3",
      "display_name": "Python 3"
    },
    "language_info": {
      "name": "python"
    }
  },
  "cells": [
    {
      "cell_type": "markdown",
      "source": [
        "## Functions"
      ],
      "metadata": {
        "id": "1ZDWMaNSHwhJ"
      }
    },
    {
      "cell_type": "code",
      "source": [
        "\"\"\"\n",
        "Functions are blocks of reusable code that can be used to perform a specific task\n",
        "\"\"\""
      ],
      "metadata": {
        "id": "GncKr06CPR3x"
      },
      "execution_count": null,
      "outputs": []
    },
    {
      "cell_type": "code",
      "source": [
        "def print_name():\n",
        "    print(\"Muhammad Abuzar\")"
      ],
      "metadata": {
        "id": "T_MK1PM2RwVk"
      },
      "execution_count": 36,
      "outputs": []
    },
    {
      "cell_type": "code",
      "source": [
        "print_name()"
      ],
      "metadata": {
        "colab": {
          "base_uri": "https://localhost:8080/"
        },
        "id": "dr6H3d0uRwSY",
        "outputId": "522a440b-7f08-4323-e50e-6c640ee776e0"
      },
      "execution_count": 37,
      "outputs": [
        {
          "output_type": "stream",
          "name": "stdout",
          "text": [
            "Muhammad Abuzar\n"
          ]
        }
      ]
    },
    {
      "cell_type": "code",
      "source": [
        "def raisedToPowerTwo(num):\n",
        "    print(num**2)\n",
        "\n",
        "raisedToPowerTwo(4)"
      ],
      "metadata": {
        "colab": {
          "base_uri": "https://localhost:8080/"
        },
        "id": "EINnvukzRwPX",
        "outputId": "e358fabd-be48-4ee1-8fbb-809f12fcb33d"
      },
      "execution_count": 40,
      "outputs": [
        {
          "output_type": "stream",
          "name": "stdout",
          "text": [
            "16\n"
          ]
        }
      ]
    },
    {
      "cell_type": "code",
      "source": [
        "def celsius_to_kelvin(celsius):\n",
        "    kelvin = celsius + 273.15\n",
        "    print(kelvin)\n",
        "\n",
        "celsius_to_kelvin(2)"
      ],
      "metadata": {
        "colab": {
          "base_uri": "https://localhost:8080/"
        },
        "id": "dM87r8BmRwLq",
        "outputId": "62d6a714-8ccd-4277-ff9d-6b9c0ac88d8b"
      },
      "execution_count": 41,
      "outputs": [
        {
          "output_type": "stream",
          "name": "stdout",
          "text": [
            "275.15\n"
          ]
        }
      ]
    },
    {
      "cell_type": "code",
      "source": [
        "\"\"\"\n",
        "Task : Create a function that takes a student's name, his grades for 4 subjects\n",
        "out of 10 individually, prints out his name, total and received grades, and average\n",
        "\"\"\""
      ],
      "metadata": {
        "id": "zRfGXFn5RHDz"
      },
      "execution_count": null,
      "outputs": []
    },
    {
      "cell_type": "markdown",
      "source": [
        "### Solution"
      ],
      "metadata": {
        "id": "S6wOrC_9TmGu"
      }
    },
    {
      "cell_type": "code",
      "source": [
        "def student_calculator(name, grade1, grade2, grade3, grade4):\n",
        "    # Total marks are 40 for 4 subjects, obtained marks are\n",
        "    obtained_marks = grade1 + grade2 + grade3 + grade4\n",
        "\n",
        "    average = obtained_marks/4\n",
        "\n",
        "    percentage = (obtained_marks / 40) * 100\n",
        "\n",
        "    print(\"Student\", name, \"got a total of\", obtained_marks, \"out of 40 with an average of\", average, \"and a percentage of\", percentage, \"%\")"
      ],
      "metadata": {
        "id": "ppdfOEczTji0"
      },
      "execution_count": 55,
      "outputs": []
    },
    {
      "cell_type": "code",
      "source": [
        "student_calculator(\"Fatima\", 8, 7, 5, 9)"
      ],
      "metadata": {
        "colab": {
          "base_uri": "https://localhost:8080/"
        },
        "id": "mlm-6TSJTejO",
        "outputId": "8bceaa62-88d5-432d-c38b-475d0738619e"
      },
      "execution_count": 56,
      "outputs": [
        {
          "output_type": "stream",
          "name": "stdout",
          "text": [
            "Student Fatima got a total of 29 out of 40 with an average of 7.25 and a percentage of 72.5 %\n"
          ]
        }
      ]
    },
    {
      "cell_type": "code",
      "source": [],
      "metadata": {
        "id": "N-DHdLQkUnat"
      },
      "execution_count": null,
      "outputs": []
    }
  ]
}