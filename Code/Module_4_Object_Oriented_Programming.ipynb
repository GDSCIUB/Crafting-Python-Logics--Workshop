{
  "nbformat": 4,
  "nbformat_minor": 0,
  "metadata": {
    "colab": {
      "provenance": []
    },
    "kernelspec": {
      "name": "python3",
      "display_name": "Python 3"
    },
    "language_info": {
      "name": "python"
    }
  },
  "cells": [
    {
      "cell_type": "markdown",
      "source": [
        "## Basics of Object Oriented Programming"
      ],
      "metadata": {
        "id": "4iywfe1pCnyy"
      }
    },
    {
      "cell_type": "code",
      "execution_count": null,
      "metadata": {
        "id": "3V7O43SC_-tJ"
      },
      "outputs": [],
      "source": [
        "\"\"\"\n",
        "Object Oriented Programming is another programming paradigm just like functional\n",
        "programming. It uses the concept of objects and classes. Objects contain data and\n",
        "code both. It is one of the most used and popular programming paradigm used for\n",
        "professional development and structuring code.\n",
        "\n",
        "A class is a blueprint for creating objects while objects are instances of a class\n",
        "\"\"\""
      ]
    },
    {
      "cell_type": "code",
      "source": [
        "# Define a class\n",
        "class Dog:\n",
        "    def __init__(self, name, age):\n",
        "        self.name = name\n",
        "        self.age = age\n",
        "\n",
        "    # Method\n",
        "    def bark(self):\n",
        "        return \"Woof!\"\n",
        "\n",
        "\n",
        "# Create objects (instances) of the class\n",
        "dog1 = Dog(\"Buddy\", 3)\n",
        "dog2 = Dog(\"Max\", 5)\n",
        "\n",
        "# Access object attributes and methods\n",
        "print(dog1.name)\n",
        "print(dog2.age)\n",
        "print(dog1.bark())"
      ],
      "metadata": {
        "colab": {
          "base_uri": "https://localhost:8080/"
        },
        "id": "3bLRMJXzB3IM",
        "outputId": "cfa2c1e0-3c76-4c49-db0c-e32dce1834b5"
      },
      "execution_count": 2,
      "outputs": [
        {
          "output_type": "stream",
          "name": "stdout",
          "text": [
            "Buddy\n",
            "5\n",
            "Woof!\n"
          ]
        }
      ]
    },
    {
      "cell_type": "code",
      "source": [
        "class Workshop:\n",
        "    def __init__(self, language, instructor, faculty):\n",
        "        self.language = language\n",
        "        self.instructor = instructor\n",
        "        self.faculty = faculty\n",
        "\n",
        "    def explain(self):\n",
        "        return f\"This workshop on {self.language} programming language is held at {self.faculty} and the instructor is {self.instructor}\"\n",
        "\n",
        "\n",
        "workshop1 = Workshop(\"Python\", \"Muhammad Abuzar\", \"The faculty of Computing\")\n",
        "\n",
        "\n",
        "print(workshop1.explain())"
      ],
      "metadata": {
        "colab": {
          "base_uri": "https://localhost:8080/"
        },
        "id": "K5Kxx9vjCgQJ",
        "outputId": "04de5ca8-6d0b-4717-c917-e024da2abba5"
      },
      "execution_count": 4,
      "outputs": [
        {
          "output_type": "stream",
          "name": "stdout",
          "text": [
            "This workshop on Python programming language is held at The faculty of Computing and the instructor is Muhammad Abuzar\n"
          ]
        }
      ]
    },
    {
      "cell_type": "code",
      "source": [
        "class Arithmetic():\n",
        "    def __init__(self, num1, num2):\n",
        "        self.num1 = num1\n",
        "        self.num2 = num2\n",
        "\n",
        "    def print_nums(self):\n",
        "        return self.num1, self.num2\n",
        "\n",
        "    def maths(self, operation):\n",
        "        if(operation == \"sum\"):\n",
        "            return self.num1 + self.num2\n",
        "\n",
        "        elif(operation == \"multiply\"):\n",
        "            return self.num1 * self.num2\n",
        "\n",
        "        elif(operation == \"divide\"):\n",
        "            return self.num1 / self.num2\n",
        "\n",
        "        elif(operation == \"subtract\"):\n",
        "            return self.num1 - self.num2\n",
        "\n",
        "        elif(operation == \"exponent\"):\n",
        "            return self.num1 ** self.num2\n",
        "\n",
        "        else:\n",
        "            return \"Please assign a proper operator\"\n",
        "\n",
        "\n",
        "a = Arithmetic(10, 2)\n",
        "\n",
        "print(a.maths(\"exponent\"))"
      ],
      "metadata": {
        "colab": {
          "base_uri": "https://localhost:8080/"
        },
        "id": "gV3dC7bIDr7L",
        "outputId": "f2240662-f9f1-4900-dbd1-995798290d80"
      },
      "execution_count": 9,
      "outputs": [
        {
          "output_type": "stream",
          "name": "stdout",
          "text": [
            "100\n"
          ]
        }
      ]
    },
    {
      "cell_type": "markdown",
      "source": [
        "# Four Pillars of OOP"
      ],
      "metadata": {
        "id": "EjsMJ2CDF4Om"
      }
    },
    {
      "cell_type": "code",
      "source": [
        "\"\"\"\n",
        "Encapsulation refers to the bundling of data (attributes) and methods that\n",
        "operate on the data into a single unit, known as a class. It restricts access\n",
        "to some of the object's components, hiding the internal state and requiring\n",
        "all interaction to occur through an object's methods. This helps to ensure data\n",
        "integrity and prevents unintended external access.\n",
        "\"\"\""
      ],
      "metadata": {
        "id": "tElLKdWeFmrb"
      },
      "execution_count": null,
      "outputs": []
    },
    {
      "cell_type": "code",
      "source": [
        "# Encapsulation\n",
        "class Car:\n",
        "    def __init__(self, make, model):\n",
        "        self.make = make\n",
        "        self.model = model\n",
        "\n",
        "    def get_info(self):\n",
        "        return f\"{self.make} {self.model}\"\n",
        "\n",
        "\n",
        "car1 = Car(\"Toyota\", 2001)\n",
        "\n",
        "print(car1.get_info())"
      ],
      "metadata": {
        "colab": {
          "base_uri": "https://localhost:8080/"
        },
        "id": "m2oW73UpGb7o",
        "outputId": "a5d7e755-1484-4ad5-ad1d-9dca29213df4"
      },
      "execution_count": 16,
      "outputs": [
        {
          "output_type": "stream",
          "name": "stdout",
          "text": [
            "Toyota 2001\n"
          ]
        }
      ]
    },
    {
      "cell_type": "code",
      "source": [
        "\"\"\"\n",
        "Abstraction involves simplifying complex reality by modeling classes appropriate\n",
        "to the problem, and working at the most relevant level of inheritance.\n",
        "It helps to reduce programming complexity and effort by hiding unnecessary\n",
        "details while highlighting essential features. Abstract classes cannot be\n",
        "instantiated and may contain one or more abstract methods that must be\n",
        "implemented by subclasses.\n",
        "\"\"\""
      ],
      "metadata": {
        "id": "iyGjJhYZGrUG"
      },
      "execution_count": null,
      "outputs": []
    },
    {
      "cell_type": "code",
      "source": [
        "\"\"\"\n",
        "Inheritance is a mechanism by which one class (subclass or child class) can\n",
        "inherit attributes and methods from another class (superclass or parent class).\n",
        "It allows for code reuse, promoting modularity and extensibility. Subclasses\n",
        "can add new features or modify existing ones without affecting the parent class.\n",
        "In Python, classes can inherit from one or more parent classes, enabling\n",
        "multiple inheritance.\n",
        "\"\"\""
      ],
      "metadata": {
        "id": "pAtIz7oxIDzj"
      },
      "execution_count": null,
      "outputs": []
    },
    {
      "cell_type": "code",
      "source": [
        "class ElectricCar(Car):\n",
        "    def __init__(self, make, model, battery_capacity):\n",
        "        super().__init__(make, model)\n",
        "        self.battery_capacity = battery_capacity\n",
        "\n",
        "    def charge(self):\n",
        "        return \"Charging the electric car...\"\n",
        "\n",
        "electric_car = ElectricCar(\"Tesla\", \"Model S\", \"100 kWh\")\n",
        "print(electric_car.get_info())\n",
        "print(electric_car.charge())"
      ],
      "metadata": {
        "colab": {
          "base_uri": "https://localhost:8080/"
        },
        "id": "0kN4fZadHiKI",
        "outputId": "e5a398cb-a287-493a-cef8-c4817ccdf8b3"
      },
      "execution_count": 17,
      "outputs": [
        {
          "output_type": "stream",
          "name": "stdout",
          "text": [
            "Tesla Model S\n",
            "Charging the electric car...\n"
          ]
        }
      ]
    },
    {
      "cell_type": "code",
      "source": [
        "\"\"\"\n",
        "Polymorphism means the ability to take on different forms. In OOP, polymorphism\n",
        "allows objects of different classes to be treated as objects of a common\n",
        "superclass. It allows methods to do different things based on the object that\n",
        "calls them. This enhances flexibility and modifiability, as the same method\n",
        "name can behave differently depending on the object that calls it. Polymorphism\n",
        "is achieved through method overriding and method overloading.\n",
        "\"\"\""
      ],
      "metadata": {
        "id": "e2aRiuQ4H7gr"
      },
      "execution_count": null,
      "outputs": []
    },
    {
      "cell_type": "code",
      "source": [
        "# Polymorphism\n",
        "class Pet:\n",
        "    def sound(self):\n",
        "        pass\n",
        "\n",
        "class Dog(Pet):\n",
        "    def sound(self):\n",
        "        return \"Woof!\"\n",
        "\n",
        "class Cat(Pet):\n",
        "    def sound(self):\n",
        "        return \"Meow!\""
      ],
      "metadata": {
        "id": "quPOkaHSIUDn"
      },
      "execution_count": 18,
      "outputs": []
    },
    {
      "cell_type": "code",
      "source": [
        "pet1 = Cat()\n",
        "pet2 = Dog()\n",
        "\n",
        "print(pet1.sound())\n",
        "print(pet2.sound())"
      ],
      "metadata": {
        "colab": {
          "base_uri": "https://localhost:8080/"
        },
        "id": "6pi61slnIXIf",
        "outputId": "54c2e813-45bd-4500-afa2-433c4c5ddd4d"
      },
      "execution_count": 21,
      "outputs": [
        {
          "output_type": "stream",
          "name": "stdout",
          "text": [
            "Meow!\n",
            "Woof!\n"
          ]
        }
      ]
    },
    {
      "cell_type": "code",
      "source": [],
      "metadata": {
        "id": "JPyClASLIaNk"
      },
      "execution_count": null,
      "outputs": []
    }
  ]
}